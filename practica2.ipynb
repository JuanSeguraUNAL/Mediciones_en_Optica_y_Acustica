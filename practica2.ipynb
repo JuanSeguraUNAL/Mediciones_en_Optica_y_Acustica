{
 "cells": [
  {
   "cell_type": "markdown",
   "id": "50ed2abb",
   "metadata": {},
   "source": [
    "# Práctica 2\n",
    "\n",
    "Integrantes:\n",
    "- Angel Martinez\n",
    "- Alejandra Sarria\n",
    "- Juan Segura"
   ]
  },
  {
   "cell_type": "markdown",
   "id": "6afd4dd9",
   "metadata": {},
   "source": [
    "### Experimento 1\n",
    "\n",
    "En el riel, el objeto se encuentra en la posicion ($141.9 \\pm 0.5$)mm.\n",
    "\n",
    "En el riel, la primera distancia de objeto se ubica en la posicion ($108.8 \\pm 0.5$)mm.\n",
    "\n"
   ]
  },
  {
   "cell_type": "code",
   "execution_count": null,
   "id": "6188787f",
   "metadata": {},
   "outputs": [],
   "source": [
    "# Arreglo con las distancias objeto so\n",
    "so = [33.1, 38.1, 43.1, 48.1, 53.1]\n",
    "\n",
    "# Arreglo de arreglos de los 5 valores de distancia imagen si para cada so\n",
    "si = [[92.8, 92.4, 91.8, 93.6, 91.6],\n",
    "    [67.0, 70.0, 66.3, 69.7, 69.0],\n",
    "    [57.0, 58.0, 57.2, 58.5, 58.2],\n",
    "    [51.0, 51.5, 50.9, 51.7, 51.1],\n",
    "    [47.1, 47.7, ],\n",
    "    [],\n",
    "    [],\n",
    "    [],\n",
    "    [],\n",
    "    []]"
   ]
  },
  {
   "cell_type": "code",
   "execution_count": 32,
   "id": "99b094d8",
   "metadata": {},
   "outputs": [
    {
     "name": "stdout",
     "output_type": "stream",
     "text": [
      "53.10000000000001\n"
     ]
    }
   ],
   "source": [
    "# Posicion objeto - posicion lente = Distancia lente-objeto so\n",
    "print(141.9 - 88.8)"
   ]
  },
  {
   "cell_type": "code",
   "execution_count": 34,
   "id": "95d8db14",
   "metadata": {},
   "outputs": [
    {
     "name": "stdout",
     "output_type": "stream",
     "text": [
      "47.699999999999996\n"
     ]
    }
   ],
   "source": [
    "# Posicion lente - posicion imagen = Distancia lente-imagen si\n",
    "print(88.8 - 41.1)"
   ]
  },
  {
   "cell_type": "markdown",
   "id": "2539ef67",
   "metadata": {},
   "source": [
    "### Experimento 2"
   ]
  },
  {
   "cell_type": "markdown",
   "id": "42d9af0a",
   "metadata": {},
   "source": []
  }
 ],
 "metadata": {
  "kernelspec": {
   "display_name": ".venv",
   "language": "python",
   "name": "python3"
  },
  "language_info": {
   "codemirror_mode": {
    "name": "ipython",
    "version": 3
   },
   "file_extension": ".py",
   "mimetype": "text/x-python",
   "name": "python",
   "nbconvert_exporter": "python",
   "pygments_lexer": "ipython3",
   "version": "3.12.3"
  }
 },
 "nbformat": 4,
 "nbformat_minor": 5
}
