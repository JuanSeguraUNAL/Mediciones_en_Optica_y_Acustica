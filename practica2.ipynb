{
 "cells": [
  {
   "cell_type": "markdown",
   "id": "50ed2abb",
   "metadata": {},
   "source": [
    "# Práctica 2\n",
    "\n",
    "Integrantes:\n",
    "- Angel Martinez\n",
    "- Alejandra Sarria\n",
    "- Juan Segura"
   ]
  },
  {
   "cell_type": "code",
   "execution_count": 20,
   "id": "56563889",
   "metadata": {},
   "outputs": [],
   "source": [
    "# Importar librerías\n",
    "import numpy as np\n",
    "import matplotlib.pyplot as plt\n",
    "import seaborn as sns\n",
    "from scipy.optimize import curve_fit\n",
    "\n",
    "# Diseño de los gráficos\n",
    "sns.set()\n",
    "sns.set_context(\"paper\")\n",
    "sns.set_palette(\"colorblind\")"
   ]
  },
  {
   "cell_type": "markdown",
   "id": "6afd4dd9",
   "metadata": {},
   "source": [
    "### Experimento 1\n",
    "\n",
    "En el riel, el objeto se encuentra en la posicion ($141.9 \\pm 0.5$)mm.\n",
    "\n",
    "En el riel, la primera distancia de objeto se ubica en la posicion ($108.8 \\pm 0.5$)mm.\n",
    "\n",
    "Entre puntos consecutivos de la diapositiva hay $(4.0 \\pm 0.5)$ mm."
   ]
  },
  {
   "cell_type": "code",
   "execution_count": null,
   "id": "6188787f",
   "metadata": {},
   "outputs": [],
   "source": [
    "# Arreglo con las distancias objeto so\n",
    "so = np.array([33.1, 38.1, 43.1, 48.1, 53.1, 58.1, 63.1, 68.1, 73.1, 78.1])\n",
    "\n",
    "# Arreglo de arreglos de los 5 valores de distancia imagen si para cada so\n",
    "si = np.array([[92.8, 92.4, 91.8, 93.6, 91.6],\n",
    "      [67.0, 70.0, 66.3, 69.7, 69.0],\n",
    "      [57.0, 58.0, 57.2, 58.5, 58.2],\n",
    "      [51.0, 51.5, 50.9, 51.7, 51.1],\n",
    "      [47.1, 47.7, 47.7, 48.6, 47.8],\n",
    "      [44.7, 44.2, 43.9, 43.5, 44.4],\n",
    "      [41.6, 42.6, 41.6, 42.3, 42.8],\n",
    "      [39.9, 40.0, 40.3, 40.5, 41.0],\n",
    "      [39.9, 40.3, 38.7, 38.7, 39.5],\n",
    "      [37.4, 37.8, 38.2, 38.7, 38.2]])"
   ]
  },
  {
   "cell_type": "code",
   "execution_count": 22,
   "id": "8139d4b1",
   "metadata": {},
   "outputs": [
    {
     "data": {
      "text/plain": [
       "24.397776012708498"
      ]
     },
     "execution_count": 22,
     "metadata": {},
     "output_type": "execute_result"
    }
   ],
   "source": [
    "1/(1/33.1 + 1/92.8)"
   ]
  },
  {
   "cell_type": "code",
   "execution_count": 24,
   "id": "4be6a42e",
   "metadata": {},
   "outputs": [
    {
     "data": {
      "text/plain": [
       "<matplotlib.collections.PathCollection at 0x79d1d3cabc50>"
      ]
     },
     "execution_count": 24,
     "metadata": {},
     "output_type": "execute_result"
    },
    {
     "data": {
      "image/png": "[encoded data removed]",
      "text/plain": [
       "<Figure size 1000x800 with 1 Axes>"
      ]
     },
     "metadata": {},
     "output_type": "display_data"
    }
   ],
   "source": [
    "si_prom = np.array([np.mean(i) for i in si])\n",
    "\n",
    "figure, ax = plt.subplots(figsize= (10, 8))\n",
    "ax.scatter(so, si_prom)\n"
   ]
  },
  {
   "cell_type": "markdown",
   "id": "2539ef67",
   "metadata": {},
   "source": [
    "### Experimento 2"
   ]
  },
  {
   "cell_type": "markdown",
   "id": "42d9af0a",
   "metadata": {},
   "source": []
  },
  {
   "cell_type": "markdown",
   "id": "b8bd0a89",
   "metadata": {},
   "source": [
    "### Experimento 3\n",
    "\n"
   ]
  },
  {
   "cell_type": "markdown",
   "id": "fe02a296",
   "metadata": {},
   "source": [
    "La posicion del objeto es 140.6cm\n",
    "La posicion de la pantalla es 23.4cm.\n",
    "\n",
    "Para la minima.\n",
    "\n",
    "La posicion de la lente es: \n",
    "58.6\n",
    "61.1\n",
    "60.2\n",
    "60\n",
    "60.7\n",
    "\n",
    "Entre 5 puntos se registro un ancho de 1cm.\n",
    "\n",
    "Para la maxima.\n",
    "La posicion de la lente es:\n",
    "105.9\n",
    "106.3\n",
    "106.2\n",
    "105.3\n",
    "106.2\n"
   ]
  },
  {
   "cell_type": "markdown",
   "id": "6ce7e996",
   "metadata": {},
   "source": [
    "### Experimento 4"
   ]
  },
  {
   "cell_type": "markdown",
   "id": "644ea404",
   "metadata": {},
   "source": [
    "La distancia entre la lente y el objeto es de 198cm.\n",
    "La distancia entre la lente y la imagen es de 30.1cm."
   ]
  },
  {
   "cell_type": "code",
   "execution_count": null,
   "id": "69202673",
   "metadata": {},
   "outputs": [],
   "source": []
  }
 ],
 "metadata": {
  "kernelspec": {
   "display_name": ".venv",
   "language": "python",
   "name": "python3"
  },
  "language_info": {
   "codemirror_mode": {
    "name": "ipython",
    "version": 3
   },
   "file_extension": ".py",
   "mimetype": "text/x-python",
   "name": "python",
   "nbconvert_exporter": "python",
   "pygments_lexer": "ipython3",
   "version": "3.12.3"
  }
 },
 "nbformat": 4,
 "nbformat_minor": 5
}
