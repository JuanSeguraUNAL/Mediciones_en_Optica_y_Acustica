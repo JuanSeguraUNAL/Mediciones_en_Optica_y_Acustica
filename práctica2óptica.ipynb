{
  "nbformat": 4,
  "nbformat_minor": 0,
  "metadata": {
    "colab": {
      "provenance": [],
      "authorship_tag": "ABX9TyP8zZ6ekuX7kWRfJUFKsgc/",
      "include_colab_link": true
    },
    "kernelspec": {
      "name": "python3",
      "display_name": "Python 3"
    },
    "language_info": {
      "name": "python"
    }
  },
  "cells": [
    {
      "cell_type": "markdown",
      "metadata": {
        "id": "view-in-github",
        "colab_type": "text"
      },
      "source": [
        "<a href=\"https://colab.research.google.com/github/JuanSeguraUNAL/Mediciones_en_Optica_y_Acustica/blob/master/pr%C3%A1ctica2%C3%B3ptica.ipynb\" target=\"_parent\"><img src=\"https://colab.research.google.com/assets/colab-badge.svg\" alt=\"Open In Colab\"/></a>"
      ]
    },
    {
      "cell_type": "markdown",
      "source": [
        "# Punto 5"
      ],
      "metadata": {
        "id": "e5Kvteg1uHox"
      }
    },
    {
      "cell_type": "code",
      "execution_count": 8,
      "metadata": {
        "colab": {
          "base_uri": "https://localhost:8080/"
        },
        "id": "0ylTxckuqPvz",
        "outputId": "26e4582c-fd28-419f-cbbd-87eb4f39fa73"
      },
      "outputs": [
        {
          "output_type": "stream",
          "name": "stdout",
          "text": [
            "Distancia objeto-pantalla d = 117.20 ± 0.07 cm\n",
            "Valores de dl (cm): [47.3 45.2 46.  45.3 45.5]\n",
            "Valores de f (cm): [24.52762372 24.94197952 24.78634812 24.92267491 24.88393771]\n",
            "\n",
            "f promedio = 24.81 cm\n",
            "Desviación estándar (f) = 0.17 cm\n",
            "Incertidumbre σ_f = 0.08 cm\n",
            "\n",
            "Distancia focal: f = 24.81 ± 0.08 cm\n"
          ]
        }
      ],
      "source": [
        "import numpy as np\n",
        "\n",
        "si = 23.4         # cm\n",
        "so = 140.6\n",
        "incert_nom = 0.05\n",
        "\n",
        "d = so - si       # distancia FIJA entre el objeto y la imagen\n",
        "sigma_d = np.sqrt(incert_nom**2 + incert_nom**2)  # error\n",
        "\n",
        "# posiciones de la lente\n",
        "peq = np.array([58.6, 61.1, 60.2, 60.0, 60.7])\n",
        "gra = np.array([105.9, 106.3, 106.2, 105.3, 106.2])\n",
        "\n",
        "dl = gra - peq  # distancia entre las posiciones complementarias de la lente (recíprocos)\n",
        "\n",
        "f = (d**2 - dl**2) / (4*d) # formulita en términos de las distancias entre cosas\n",
        "\n",
        "f_mean = np.mean(f)\n",
        "f_std  = np.std(f, ddof=1)  # desviación estándar muestral de los f, error que viene de la repetición del exp\n",
        "\n",
        "# propagación de errores\n",
        "dl_mean = np.mean(dl)\n",
        "df_dl = -dl_mean/(2*d)\n",
        "df_d = (d**2 + dl_mean**2)/(4*d**2)\n",
        "sigma_dl = np.std(dl, ddof=1)/np.sqrt(len(dl))  # error estándar de la media de d\n",
        "\n",
        "sigma_f = np.sqrt((df_dl*sigma_dl)**2 + (df_d*sigma_d)**2)\n",
        "\n",
        "# Resultados\n",
        "print(\"Distancia objeto-pantalla d = {:.2f} ± {:.2f} cm\".format(d, sigma_d))\n",
        "print(\"Valores de dl (cm):\", dl)\n",
        "print(\"Valores de f (cm):\", f)\n",
        "print(\"\\nf promedio = {:.2f} cm\".format(f_mean))\n",
        "print(\"Desviación estándar (f) = {:.2f} cm\".format(f_std))\n",
        "print(\"Incertidumbre σ_f = {:.2f} cm\".format(sigma_f))\n",
        "print(\"\\nDistancia focal: f = {:.2f} ± {:.2f} cm\".format(f_mean, sigma_f))\n"
      ]
    }
  ]
}