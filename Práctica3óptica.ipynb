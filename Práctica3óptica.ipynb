{
  "nbformat": 4,
  "nbformat_minor": 0,
  "metadata": {
    "colab": {
      "provenance": [],
      "authorship_tag": "ABX9TyNY+L2v3+j1BIXmLHcBPfGI",
      "include_colab_link": true
    },
    "kernelspec": {
      "name": "python3",
      "display_name": "Python 3"
    },
    "language_info": {
      "name": "python"
    }
  },
  "cells": [
    {
      "cell_type": "markdown",
      "metadata": {
        "id": "view-in-github",
        "colab_type": "text"
      },
      "source": [
        "<a href=\"https://colab.research.google.com/github/JuanSeguraUNAL/Mediciones_en_Optica_y_Acustica/blob/master/Pr%C3%A1ctica3%C3%B3ptica.ipynb\" target=\"_parent\"><img src=\"https://colab.research.google.com/assets/colab-badge.svg\" alt=\"Open In Colab\"/></a>"
      ]
    },
    {
      "cell_type": "code",
      "source": [
        "import numpy as np\n",
        "from math import sqrt\n",
        "\n",
        "# Datos dados\n",
        "d1 = 26.0  # cm, distancia entre lentes\n",
        "ds = 0.1   # cm, incertidumbre nominal (aplica a medidas de distancia So_me1 y a d1)\n",
        "So_me1 = np.array([8.0, 13.0, 18.0, 23.0, 28.0, 33.0, 38.0, 43.0, 48.0, 53.0])\n",
        "si_ma1 = np.array([[101.1, 105.3, 100.9, 101.2, 102.8],\n",
        "                   [78.4, 82.5, 81.7, 79.2, 80.9],\n",
        "                   [73.5, 72.5, 73.3, 73.8, 71.4],\n",
        "                   [69.5, 68.4, 68.6, 67.0, 64.7],\n",
        "                   [64.5, 64.4, 64.6, 62.7, 62.4],\n",
        "                   [61.6, 61.7, 61.8, 59.8, 61.7],\n",
        "                   [59.4, 58.4, 59.6, 58.5, 58.8],\n",
        "                   [55.9, 56.9, 57.5, 57.3, 57.7],\n",
        "                   [56.1, 57.8, 56.6, 56.7, 56.8],\n",
        "                   [54.9, 56.2, 55.8, 53.9, 56.4]])\n",
        "\n",
        "Si_ma1 = np.array([np.mean(i) for i in si_ma1])\n",
        "si_ma_desv1 = np.array([np.std(i) for i in si_ma1])\n",
        "dSi_ma1 = np.sqrt(si_ma_desv1**2 + ds**2)\n",
        "\n",
        "\n",
        "f_plus = 24.7\n",
        "df_plus = 0.1\n",
        "s_i_minus = d1 + (Si_ma1 * f_plus) / (Si_ma1 - f_plus)\n",
        "f_minus   = (s_i_minus * So_me1) / (s_i_minus + So_me1)\n",
        "f_mean = np.mean(f_minus)\n",
        "df_mean = np.std(f_minus, ddof=1) / np.sqrt(len(f_minus))\n",
        "\n",
        "print(f_mean, \"±\", df_mean)"
      ],
      "metadata": {
        "colab": {
          "base_uri": "https://localhost:8080/"
        },
        "id": "LR4t2cP0eQk-",
        "outputId": "5aa783ac-0418-484f-befb-d598c5724f5e"
      },
      "execution_count": 2,
      "outputs": [
        {
          "output_type": "stream",
          "name": "stdout",
          "text": [
            "20.03174100806683 ± 2.4556285000031277\n"
          ]
        }
      ]
    },
    {
      "cell_type": "code",
      "source": [],
      "metadata": {
        "id": "hH1g7P2weOUn"
      },
      "execution_count": null,
      "outputs": []
    }
  ]
}