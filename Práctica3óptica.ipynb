{
  "cells": [
    {
      "cell_type": "markdown",
      "metadata": {
        "colab_type": "text",
        "id": "view-in-github"
      },
      "source": [
        "<a href=\"https://colab.research.google.com/github/JuanSeguraUNAL/Mediciones_en_Optica_y_Acustica/blob/master/Pr%C3%A1ctica3%C3%B3ptica.ipynb\" target=\"_parent\"><img src=\"https://colab.research.google.com/assets/colab-badge.svg\" alt=\"Open In Colab\"/></a>"
      ]
    },
    {
      "cell_type": "code",
      "execution_count": 2,
      "metadata": {
        "colab": {
          "base_uri": "https://localhost:8080/"
        },
        "id": "LR4t2cP0eQk-",
        "outputId": "5aa783ac-0418-484f-befb-d598c5724f5e"
      },
      "outputs": [
        {
          "name": "stdout",
          "output_type": "stream",
          "text": [
            "20.03174100806683 ± 2.4556285000031277\n"
          ]
        }
      ],
      "source": [
        "import numpy as np\n",
        "from math import sqrt\n",
        "\n",
        "# Datos dados\n",
        "d1 = 26.0  # cm, distancia entre lentes\n",
        "ds = 0.1   # cm, incertidumbre nominal (aplica a medidas de distancia So_me1 y a d1)\n",
        "So_me1 = np.array([8.0, 13.0, 18.0, 23.0, 28.0, 33.0, 38.0, 43.0, 48.0, 53.0])\n",
        "si_ma1 = np.array([[101.1, 105.3, 100.9, 101.2, 102.8],\n",
        "                   [78.4, 82.5, 81.7, 79.2, 80.9],\n",
        "                   [73.5, 72.5, 73.3, 73.8, 71.4],\n",
        "                   [69.5, 68.4, 68.6, 67.0, 64.7],\n",
        "                   [64.5, 64.4, 64.6, 62.7, 62.4],\n",
        "                   [61.6, 61.7, 61.8, 59.8, 61.7],\n",
        "                   [59.4, 58.4, 59.6, 58.5, 58.8],\n",
        "                   [55.9, 56.9, 57.5, 57.3, 57.7],\n",
        "                   [56.1, 57.8, 56.6, 56.7, 56.8],\n",
        "                   [54.9, 56.2, 55.8, 53.9, 56.4]])\n",
        "\n",
        "Si_ma1 = np.array([np.mean(i) for i in si_ma1])\n",
        "si_ma_desv1 = np.array([np.std(i) for i in si_ma1])\n",
        "dSi_ma1 = np.sqrt(si_ma_desv1**2 + ds**2)\n",
        "\n",
        "\n",
        "f_plus = 24.7\n",
        "df_plus = 0.1\n",
        "s_i_minus = d1 + (Si_ma1 * f_plus) / (Si_ma1 - f_plus)\n",
        "f_minus   = (s_i_minus * So_me1) / (s_i_minus + So_me1)\n",
        "f_mean = np.mean(f_minus)\n",
        "df_mean = np.std(f_minus, ddof=1) / np.sqrt(len(f_minus))\n",
        "\n",
        "print(f_mean, \"±\", df_mean)"
      ]
    },
    {
      "cell_type": "code",
      "execution_count": 3,
      "metadata": {
        "id": "hH1g7P2weOUn"
      },
      "outputs": [],
      "source": [
        "# Distancia entre las dos lentes\n",
        "d2 = 26.5 # 26.5 cm \n",
        "\n",
        "# Distancia de la positiva no auxiliar al objeto (cm)\n",
        "So_pos2 = np.array([5.5, 7.0, 8.5, 10, 11.5, 13.0, 14.5, 16.0, 17.5, 19.0])\n",
        "\n",
        "# Distancia de la lente auxiliar a la imagen\n",
        "si_aux2 = np.array([[104.9, 99.1, 100.6, 102.8, 98.1], # 5.5\n",
        "                    [76.4, 76.7, 74.4, 77.0, 74.1],    # 7.0\n",
        "                    [69.8, 71.9, 70.5, 70.6, 69.8],    # 8.5\n",
        "                    [59.1, 57.2, 57.8, 58.0, 56.7],    # 10.0\n",
        "                    [52.7, 54.0, 55.2, 52.9, 54.2],    # 11.5\n",
        "                    [47.7, 47.2, 46.4, 47.7, 48.3],    # 13.0\n",
        "                    [42.7, 42.3, 43.2, 43.6, 41.9],    # 14.5\n",
        "                    [39.3, 40.0, 39.7, 39.9, 40.0],    # 16.0\n",
        "                    [35.0, 37.4, 35.8, 36.7, 35.6],    # 17.5\n",
        "                    [34.2, 35.6, 35.6, 35.2, 34.5]])   # 19.0\n",
        "\n",
        "# Distancia imagen desde la lente auxiliar promedio y su error\n",
        "Si_aux2 = np.array([np.mean(i) for i in si_aux2])\n",
        "si_aux_desv2 = np.array([np.std(i) for i in si_aux2])\n",
        "dSi_aux2 = np.sqrt(si_aux_desv2**2 + ds**2)"
      ]
    },
    {
      "cell_type": "code",
      "execution_count": 5,
      "metadata": {},
      "outputs": [
        {
          "name": "stdout",
          "output_type": "stream",
          "text": [
            "10.586326546027895 ± 1.1846710031006877\n"
          ]
        }
      ],
      "source": [
        "f_plus = 24.7\n",
        "df_plus = 0.1\n",
        "s_i_lente = d2 + (Si_aux2 * f_plus) / (Si_aux2 - f_plus)\n",
        "f_lente   = (s_i_lente * So_pos2) / (s_i_lente + So_pos2)\n",
        "f_mean = np.mean(f_lente)\n",
        "df_mean = np.std(f_lente, ddof=1) / np.sqrt(len(f_lente))\n",
        "\n",
        "print(f_mean, \"±\", df_mean)"
      ]
    },
    {
      "cell_type": "code",
      "execution_count": null,
      "metadata": {},
      "outputs": [],
      "source": []
    }
  ],
  "metadata": {
    "colab": {
      "authorship_tag": "ABX9TyNY+L2v3+j1BIXmLHcBPfGI",
      "include_colab_link": true,
      "provenance": []
    },
    "kernelspec": {
      "display_name": ".venv",
      "language": "python",
      "name": "python3"
    },
    "language_info": {
      "codemirror_mode": {
        "name": "ipython",
        "version": 3
      },
      "file_extension": ".py",
      "mimetype": "text/x-python",
      "name": "python",
      "nbconvert_exporter": "python",
      "pygments_lexer": "ipython3",
      "version": "3.12.3"
    }
  },
  "nbformat": 4,
  "nbformat_minor": 0
}
