{
 "cells": [
  {
   "cell_type": "markdown",
   "id": "e8db6b92",
   "metadata": {},
   "source": [
    "# Práctica 3\n",
    "\n",
    "Integrantes:\n",
    "- Angel Martinez\n",
    "- Alejandra Sarria\n",
    "- Juan Segura"
   ]
  },
  {
   "cell_type": "code",
   "execution_count": 15,
   "id": "e73200c0",
   "metadata": {},
   "outputs": [],
   "source": [
    "# Importar librerías\n",
    "import numpy as np\n",
    "import matplotlib.pyplot as plt\n",
    "import seaborn as sns\n",
    "from scipy.optimize import curve_fit\n",
    "\n",
    "# Diseño de los gráficos\n",
    "sns.set()\n",
    "sns.set_context(\"paper\")\n",
    "sns.set_palette(\"colorblind\")"
   ]
  },
  {
   "cell_type": "markdown",
   "id": "87bc187b",
   "metadata": {},
   "source": [
    "### Experimento 1"
   ]
  },
  {
   "cell_type": "markdown",
   "id": "5343c344",
   "metadata": {},
   "source": [
    "El objeto se encuentra en la posicion del riel 143cm.\n",
    "\n",
    "Se va a medir si+ distancia a la imagen desde la lente positiva, y se mide la distancia al objeto desde la lente negativa."
   ]
  },
  {
   "cell_type": "code",
   "execution_count": null,
   "id": "d3c11784",
   "metadata": {},
   "outputs": [],
   "source": [
    "# Distancia entre las lentes negativa y positiva\n",
    "d1 = 26 # 26 cm\n",
    "\n",
    "# Incertidumbre nominal de las medidas de distancia\n",
    "ds = 0.1 # 0.1 cm\n",
    "\n",
    "# Distancia entre la lente negativa y el objeto\n",
    "So_me1 = np.array([8.0, 13.0, 18.0, 23.0, 28.0, 33.0, 38.0, 43.0, 48.0, 53.0])\n",
    "\n",
    "# Distancia a la imagen desde la lente positiva\n",
    "si_ma1 = np.array([[101.1, 105.3, 100.9, 101.2, 102.8],\n",
    "                   [78.4, 82.5, 81.7, 79.2, 80.9],\n",
    "                   [73.5, 72.5, 73.3, 73.8, 71.4],\n",
    "                   [69.5, 68.4, 68.6, 67.0, 64.7],\n",
    "                   [64.5, 64.4, 64.6, 62.7, 62.4],\n",
    "                   [61.6, 61.7, 61.8, 59.8, 61.7],\n",
    "                   [59.4, 58.4, 59.6, 58.5, 58.8],\n",
    "                   [55.9, 56.9, 57.5, 57.3, 57.7],\n",
    "                   [56.1, 57.8, 56.6, 56.7, 56.8],\n",
    "                   [54.9, 56.2, 55.8, 53.9, 56.4]])\n",
    "\n",
    "# Distancia imagen desde la lente positiva promedio y su error\n",
    "Si_ma1 = np.array([np.mean(i) for i in si_ma1])\n",
    "si_ma_desv1 = np.array([np.std(i) for i in si_ma1])\n",
    "dSi_ma1 = np.sqrt(si_ma_desv1**2 + ds**2)\n"
   ]
  },
  {
   "cell_type": "code",
   "execution_count": null,
   "id": "12b999dd",
   "metadata": {},
   "outputs": [
    {
     "data": {
      "text/plain": [
       "<matplotlib.collections.PathCollection at 0x77f3d9e21340>"
      ]
     },
     "execution_count": 66,
     "metadata": {},
     "output_type": "execute_result"
    },
    {
     "data": {
      "image/png": "[encoded data removed]",
      "text/plain": [
       "<Figure size 640x480 with 1 Axes>"
      ]
     },
     "metadata": {},
     "output_type": "display_data"
    }
   ],
   "source": [
    "fig, ax = plt.subplots(figsize = (10, 8))\n",
    "ax.scatter(So_me1, Si_ma1)"
   ]
  },
  {
   "cell_type": "markdown",
   "id": "46963376",
   "metadata": {},
   "source": [
    "### Experimento 2"
   ]
  },
  {
   "cell_type": "code",
   "execution_count": 126,
   "id": "df3c2bed",
   "metadata": {},
   "outputs": [],
   "source": [
    "# Distancia entre las dos lentes\n",
    "d2 = 26.5 # 26.5 cm \n",
    "\n",
    "# Distancia de la positiva no auxiliar al objeto (cm)\n",
    "So_pos2 = np.array([5.5, 7.0, 8.5, 10, 11.5, 13.0, 14.5, 16.0, 17.5])\n",
    "\n",
    "# Distancia de la lente auxiliar a la imagen\n",
    "si_aux2 = np.array([[104.9, 99.1, 100.6, 102.8, 98.1], # 5.5\n",
    "                    [76.4, 76.7, 74.4, 77.0, 74.1], # 7.0\n",
    "                    [69.8, 71.9, 70.5, 70.6, 69.8],  # 8.5\n",
    "                    [59.1, 57.2, 57.8, 58.0, 56.7],  # 10.0\n",
    "                    [52.7, 54.0, 55.2, 52.9, 54.2],  # 11.5\n",
    "                    [47.7, 47.2, 46.4, 47.7, 48.3],  # 13.0\n",
    "                    [42.7, 42.3, 43.2, 43.6, 41.9],  # 14.5\n",
    "                    [39.3, 40.0, 39.7, 39.9, 40.0],  # 16.0\n",
    "                    [35.0, 37.4, 35.8, 36.7, 35.6],  # 17.5\n",
    "                    [34.2, 35.6, 35.6, 35.2, 34.5]])  # 19.0\n",
    "\n",
    "# Distancia imagen desde la lente auxiliar promedio y su error\n",
    "Si_aux2 = np.array([np.mean(i) for i in si_aux2])\n",
    "si_aux_desv2 = np.array([np.std(i) for i in si_aux2])\n",
    "#dSi_aux2 = np.sqrt(si_ma_desv1**2 + ds**2)"
   ]
  },
  {
   "cell_type": "code",
   "execution_count": 124,
   "id": "3c54c1a7",
   "metadata": {},
   "outputs": [
    {
     "data": {
      "text/plain": [
       "34.5"
      ]
     },
     "execution_count": 124,
     "metadata": {},
     "output_type": "execute_result"
    }
   ],
   "source": [
    "94.5 - 60"
   ]
  },
  {
   "cell_type": "code",
   "execution_count": null,
   "id": "c53569dc",
   "metadata": {},
   "outputs": [],
   "source": []
  }
 ],
 "metadata": {
  "kernelspec": {
   "display_name": ".venv",
   "language": "python",
   "name": "python3"
  },
  "language_info": {
   "codemirror_mode": {
    "name": "ipython",
    "version": 3
   },
   "file_extension": ".py",
   "mimetype": "text/x-python",
   "name": "python",
   "nbconvert_exporter": "python",
   "pygments_lexer": "ipython3",
   "version": "3.12.3"
  }
 },
 "nbformat": 4,
 "nbformat_minor": 5
}
