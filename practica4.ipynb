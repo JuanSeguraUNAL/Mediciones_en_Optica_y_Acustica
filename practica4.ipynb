{
 "cells": [
  {
   "cell_type": "markdown",
   "id": "0120d767",
   "metadata": {},
   "source": [
    "# Práctica 4\n",
    "\n",
    "Integrantes:\n",
    "- Angel Martinez\n",
    "- Alejandra Sarria\n",
    "- Juan Segura"
   ]
  },
  {
   "cell_type": "code",
   "execution_count": 1,
   "id": "73717120",
   "metadata": {},
   "outputs": [],
   "source": [
    "# Importar librerías\n",
    "import numpy as np\n",
    "import matplotlib.pyplot as plt\n",
    "import seaborn as sns\n",
    "from scipy.optimize import curve_fit\n",
    "\n",
    "# Diseño de los gráficos\n",
    "sns.set()\n",
    "sns.set_context(\"paper\")\n",
    "sns.set_palette(\"colorblind\")"
   ]
  },
  {
   "cell_type": "markdown",
   "id": "191af44b",
   "metadata": {},
   "source": [
    "Se midieron las distancias focales de las lentes objetivo y ocular mediante la aproximacion de distancia objeto en el infinito. \n",
    "\n",
    "Para la rejilla usada, se tiene que la distancia entre seis lineas sucesivas es de 1mm aproximadamente.\n"
   ]
  },
  {
   "cell_type": "markdown",
   "id": "8bcddbf5",
   "metadata": {},
   "source": [
    "25 mm la distancia focal objetivo de la segunda medida\n",
    "74 mm."
   ]
  },
  {
   "cell_type": "markdown",
   "id": "ad0b4d74",
   "metadata": {},
   "source": [
    "La distancia sex = 11.4 cm.\n",
    "La distancia entre las dos lentes es 25.4 cm.\n",
    "La distancia entre la lente objetivo y el objeto es 2.4 cm.\n",
    "La distancia del diafragma de campo a la lente objtivo es 18.5 cm.\n"
   ]
  },
  {
   "cell_type": "code",
   "execution_count": 7,
   "id": "1b79575f",
   "metadata": {},
   "outputs": [
    {
     "name": "stdout",
     "output_type": "stream",
     "text": [
      "-12.641975308641975\n"
     ]
    }
   ],
   "source": [
    "m = - 160 / 25 * 160 / 81                                                                                                                                                                                                                                                                           \n",
    "print(m)"
   ]
  },
  {
   "cell_type": "code",
   "execution_count": 5,
   "id": "dc5e4641",
   "metadata": {},
   "outputs": [
    {
     "data": {
      "text/plain": [
       "8.100000000000001"
      ]
     },
     "execution_count": 5,
     "metadata": {},
     "output_type": "execute_result"
    }
   ],
   "source": [
    "10.3 - 2.2"
   ]
  },
  {
   "cell_type": "code",
   "execution_count": null,
   "id": "abda2d62",
   "metadata": {},
   "outputs": [],
   "source": []
  }
 ],
 "metadata": {
  "kernelspec": {
   "display_name": ".venv",
   "language": "python",
   "name": "python3"
  },
  "language_info": {
   "codemirror_mode": {
    "name": "ipython",
    "version": 3
   },
   "file_extension": ".py",
   "mimetype": "text/x-python",
   "name": "python",
   "nbconvert_exporter": "python",
   "pygments_lexer": "ipython3",
   "version": "3.12.3"
  }
 },
 "nbformat": 4,
 "nbformat_minor": 5
}
