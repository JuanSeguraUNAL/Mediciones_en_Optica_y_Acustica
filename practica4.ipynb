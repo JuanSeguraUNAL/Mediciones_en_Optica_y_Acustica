{
 "cells": [
  {
   "cell_type": "markdown",
   "id": "0120d767",
   "metadata": {},
   "source": [
    "# Práctica 4\n",
    "\n",
    "Integrantes:\n",
    "- Angel Martinez\n",
    "- Alejandra Sarria\n",
    "- Juan Segura"
   ]
  },
  {
   "cell_type": "code",
   "execution_count": 1,
   "id": "73717120",
   "metadata": {},
   "outputs": [],
   "source": [
    "# Importar librerías\n",
    "import numpy as np\n",
    "import matplotlib.pyplot as plt\n",
    "import seaborn as sns\n",
    "from scipy.optimize import curve_fit\n",
    "\n",
    "# Diseño de los gráficos\n",
    "sns.set()\n",
    "sns.set_context(\"paper\")\n",
    "sns.set_palette(\"colorblind\")"
   ]
  },
  {
   "cell_type": "markdown",
   "id": "191af44b",
   "metadata": {},
   "source": [
    "Se midieron las distancias focales de las lentes objetivo y ocular mediante la aproximacion de distancia objeto en el infinito.\n",
    "\n",
    "La distancia focal de la lente objetivo obtenida fue de $(25 \\pm 1)$ mm, mientras que la distancia focal de la lente ocular obtenida fue de $(69 \\pm 1)$ mm.\n",
    "\n",
    "Para la rejilla usada, se tiene que la distancia entre seis lineas sucesivas es de 1mm aproximadamente.\n",
    "\n",
    "Las dos lentes se ubicaron a una distancia de $(25.4 \\pm 0.1)$ cm, la distancia entre la lente objetivo y el objeto corresponde a la distancia focal de la lente objetivo, mientras que la distancia del diafragma de campo a la lente objetivo es de $(18.5 \\pm 0.1)$ cm, lo cual corresponde a la distancia focal de la lente objetivo más la longitud de tubo de $160$ mm. La distancia medida entre la lente ocular y el punto en el que se encuentra la base del cono de energía de la imagen, es decir, aquel definido por la pupila de salida fue de $(11.4 \\pm 0.1)$ cm.\n",
    "\n",
    "Una vez montado el microscopio, se ubicó en la posición del diafragma de campo una regla que permitiese calibrar las mediciones a realizar en Tracker, y se tomaron fotos con una cámara de celular desde el punto en el que se encontró la pupila de salida, apuntando en dirección a la lente ocular que permitió una mejor visualización de las lineas de la imagen de la rejilla en el punto de ubicación del diafragma de campo.\n",
    "\n",
    "Esto permitió en Tracker poder calibrar la distancia mediante la regla y tomar la distancia entre seis líneas sucesivas de la imagen de la rejilla, obteniendo de esta forma $(6.62 \\pm 0.01)$ mm.\n",
    "\n",
    "Posteriormente, se ubicó un pedazo de papel pergamino en el punto en el cual se encontró la pupila de salida y se tomó una foto de este junto a una regla para en Tracker tomar el diametro de la pupila. Esto se realizó tomando como diafragma de entrada la sola lente objetivo y con un diafragma pequeño. Tomando como diafragma de apertura se obtuvo un diametro de la pupila de salida de $(5.41 \\pm 0.01)$ mm, mientras que con el diafragma de apertura chiquito se obtuvo un diametro de la pupila de salida de $(2.73 \\pm 0.01)$ mm.\n"
   ]
  },
  {
   "cell_type": "code",
   "execution_count": 26,
   "id": "1b79575f",
   "metadata": {},
   "outputs": [
    {
     "name": "stdout",
     "output_type": "stream",
     "text": [
      "Aumento nominal del microscopio acorde a distancia focal: 6.4 +/- 0.3\n",
      "Aumento del microscopio medido: 6.6 +/- 0.1\n"
     ]
    }
   ],
   "source": [
    "# Distancia focal de la lente objetivo en milimetros\n",
    "fob = 25\n",
    "dfob = 1\n",
    "\n",
    "# Calculo del aumento nominal del microscopio acorde a la distancia focal\n",
    "m = 160 / fob\n",
    "dm = 160 / fob**2 * dfob\n",
    "\n",
    "print(f\"Aumento nominal del microscopio acorde a distancia focal: {m:.1f} +/- {dm:.1f}\")\n",
    "\n",
    "# Calculo del aumento acorde a las longitudes registradas de la rejilla\n",
    "ho = 1\n",
    "dho = 0.01\n",
    "hi = 6.62\n",
    "dhi = 0.01\n",
    "\n",
    "m = hi / ho\n",
    "dm = np.sqrt((hi / ho**2 * dho)**2 + (dhi / ho)**2)\n",
    "\n",
    "print(f\"Aumento del microscopio medido: {m:.1f} +/- {dm:.1f}\")"
   ]
  },
  {
   "cell_type": "code",
   "execution_count": null,
   "id": "c6edffb5",
   "metadata": {},
   "outputs": [],
   "source": []
  }
 ],
 "metadata": {
  "kernelspec": {
   "display_name": ".venv",
   "language": "python",
   "name": "python3"
  },
  "language_info": {
   "codemirror_mode": {
    "name": "ipython",
    "version": 3
   },
   "file_extension": ".py",
   "mimetype": "text/x-python",
   "name": "python",
   "nbconvert_exporter": "python",
   "pygments_lexer": "ipython3",
   "version": "3.12.3"
  }
 },
 "nbformat": 4,
 "nbformat_minor": 5
}
